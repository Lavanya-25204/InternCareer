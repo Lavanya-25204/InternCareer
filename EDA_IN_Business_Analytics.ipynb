{
  "nbformat": 4,
  "nbformat_minor": 0,
  "metadata": {
    "colab": {
      "provenance": []
    },
    "kernelspec": {
      "name": "python3",
      "display_name": "Python 3"
    },
    "language_info": {
      "name": "python"
    }
  },
  "cells": [
    {
      "cell_type": "markdown",
      "source": [
        "**Data Collection and Preprocessing:**\n"
      ],
      "metadata": {
        "id": "7p-tj8YImWm0"
      }
    },
    {
      "cell_type": "code",
      "execution_count": 1,
      "metadata": {
        "id": "MEglD8kNXz66"
      },
      "outputs": [],
      "source": [
        "import pandas as pd\n",
        "import matplotlib.pyplot as plt\n",
        "import seaborn as sns"
      ]
    },
    {
      "cell_type": "code",
      "source": [
        "data = pd.read_csv(\"/content/vgsales.csv\")\n",
        "data.head()"
      ],
      "metadata": {
        "colab": {
          "base_uri": "https://localhost:8080/",
          "height": 206
        },
        "id": "MgjadavmYfSl",
        "outputId": "3479466b-741f-447f-ae2e-62c6d23bfe37"
      },
      "execution_count": 2,
      "outputs": [
        {
          "output_type": "execute_result",
          "data": {
            "text/plain": [
              "   Rank                      Name Platform    Year         Genre Publisher  \\\n",
              "0     1                Wii Sports      Wii  2006.0        Sports  Nintendo   \n",
              "1     2         Super Mario Bros.      NES  1985.0      Platform  Nintendo   \n",
              "2     3            Mario Kart Wii      Wii  2008.0        Racing  Nintendo   \n",
              "3     4         Wii Sports Resort      Wii  2009.0        Sports  Nintendo   \n",
              "4     5  Pokemon Red/Pokemon Blue       GB  1996.0  Role-Playing  Nintendo   \n",
              "\n",
              "   NA_Sales  EU_Sales  JP_Sales  Other_Sales  Global_Sales  \n",
              "0     41.49     29.02      3.77         8.46         82.74  \n",
              "1     29.08      3.58      6.81         0.77         40.24  \n",
              "2     15.85     12.88      3.79         3.31         35.82  \n",
              "3     15.75     11.01      3.28         2.96         33.00  \n",
              "4     11.27      8.89     10.22         1.00         31.37  "
            ],
            "text/html": [
              "\n",
              "  <div id=\"df-c9f52e6e-143e-430f-b483-0ba8ae0da126\" class=\"colab-df-container\">\n",
              "    <div>\n",
              "<style scoped>\n",
              "    .dataframe tbody tr th:only-of-type {\n",
              "        vertical-align: middle;\n",
              "    }\n",
              "\n",
              "    .dataframe tbody tr th {\n",
              "        vertical-align: top;\n",
              "    }\n",
              "\n",
              "    .dataframe thead th {\n",
              "        text-align: right;\n",
              "    }\n",
              "</style>\n",
              "<table border=\"1\" class=\"dataframe\">\n",
              "  <thead>\n",
              "    <tr style=\"text-align: right;\">\n",
              "      <th></th>\n",
              "      <th>Rank</th>\n",
              "      <th>Name</th>\n",
              "      <th>Platform</th>\n",
              "      <th>Year</th>\n",
              "      <th>Genre</th>\n",
              "      <th>Publisher</th>\n",
              "      <th>NA_Sales</th>\n",
              "      <th>EU_Sales</th>\n",
              "      <th>JP_Sales</th>\n",
              "      <th>Other_Sales</th>\n",
              "      <th>Global_Sales</th>\n",
              "    </tr>\n",
              "  </thead>\n",
              "  <tbody>\n",
              "    <tr>\n",
              "      <th>0</th>\n",
              "      <td>1</td>\n",
              "      <td>Wii Sports</td>\n",
              "      <td>Wii</td>\n",
              "      <td>2006.0</td>\n",
              "      <td>Sports</td>\n",
              "      <td>Nintendo</td>\n",
              "      <td>41.49</td>\n",
              "      <td>29.02</td>\n",
              "      <td>3.77</td>\n",
              "      <td>8.46</td>\n",
              "      <td>82.74</td>\n",
              "    </tr>\n",
              "    <tr>\n",
              "      <th>1</th>\n",
              "      <td>2</td>\n",
              "      <td>Super Mario Bros.</td>\n",
              "      <td>NES</td>\n",
              "      <td>1985.0</td>\n",
              "      <td>Platform</td>\n",
              "      <td>Nintendo</td>\n",
              "      <td>29.08</td>\n",
              "      <td>3.58</td>\n",
              "      <td>6.81</td>\n",
              "      <td>0.77</td>\n",
              "      <td>40.24</td>\n",
              "    </tr>\n",
              "    <tr>\n",
              "      <th>2</th>\n",
              "      <td>3</td>\n",
              "      <td>Mario Kart Wii</td>\n",
              "      <td>Wii</td>\n",
              "      <td>2008.0</td>\n",
              "      <td>Racing</td>\n",
              "      <td>Nintendo</td>\n",
              "      <td>15.85</td>\n",
              "      <td>12.88</td>\n",
              "      <td>3.79</td>\n",
              "      <td>3.31</td>\n",
              "      <td>35.82</td>\n",
              "    </tr>\n",
              "    <tr>\n",
              "      <th>3</th>\n",
              "      <td>4</td>\n",
              "      <td>Wii Sports Resort</td>\n",
              "      <td>Wii</td>\n",
              "      <td>2009.0</td>\n",
              "      <td>Sports</td>\n",
              "      <td>Nintendo</td>\n",
              "      <td>15.75</td>\n",
              "      <td>11.01</td>\n",
              "      <td>3.28</td>\n",
              "      <td>2.96</td>\n",
              "      <td>33.00</td>\n",
              "    </tr>\n",
              "    <tr>\n",
              "      <th>4</th>\n",
              "      <td>5</td>\n",
              "      <td>Pokemon Red/Pokemon Blue</td>\n",
              "      <td>GB</td>\n",
              "      <td>1996.0</td>\n",
              "      <td>Role-Playing</td>\n",
              "      <td>Nintendo</td>\n",
              "      <td>11.27</td>\n",
              "      <td>8.89</td>\n",
              "      <td>10.22</td>\n",
              "      <td>1.00</td>\n",
              "      <td>31.37</td>\n",
              "    </tr>\n",
              "  </tbody>\n",
              "</table>\n",
              "</div>\n",
              "    <div class=\"colab-df-buttons\">\n",
              "\n",
              "  <div class=\"colab-df-container\">\n",
              "    <button class=\"colab-df-convert\" onclick=\"convertToInteractive('df-c9f52e6e-143e-430f-b483-0ba8ae0da126')\"\n",
              "            title=\"Convert this dataframe to an interactive table.\"\n",
              "            style=\"display:none;\">\n",
              "\n",
              "  <svg xmlns=\"http://www.w3.org/2000/svg\" height=\"24px\" viewBox=\"0 -960 960 960\">\n",
              "    <path d=\"M120-120v-720h720v720H120Zm60-500h600v-160H180v160Zm220 220h160v-160H400v160Zm0 220h160v-160H400v160ZM180-400h160v-160H180v160Zm440 0h160v-160H620v160ZM180-180h160v-160H180v160Zm440 0h160v-160H620v160Z\"/>\n",
              "  </svg>\n",
              "    </button>\n",
              "\n",
              "  <style>\n",
              "    .colab-df-container {\n",
              "      display:flex;\n",
              "      gap: 12px;\n",
              "    }\n",
              "\n",
              "    .colab-df-convert {\n",
              "      background-color: #E8F0FE;\n",
              "      border: none;\n",
              "      border-radius: 50%;\n",
              "      cursor: pointer;\n",
              "      display: none;\n",
              "      fill: #1967D2;\n",
              "      height: 32px;\n",
              "      padding: 0 0 0 0;\n",
              "      width: 32px;\n",
              "    }\n",
              "\n",
              "    .colab-df-convert:hover {\n",
              "      background-color: #E2EBFA;\n",
              "      box-shadow: 0px 1px 2px rgba(60, 64, 67, 0.3), 0px 1px 3px 1px rgba(60, 64, 67, 0.15);\n",
              "      fill: #174EA6;\n",
              "    }\n",
              "\n",
              "    .colab-df-buttons div {\n",
              "      margin-bottom: 4px;\n",
              "    }\n",
              "\n",
              "    [theme=dark] .colab-df-convert {\n",
              "      background-color: #3B4455;\n",
              "      fill: #D2E3FC;\n",
              "    }\n",
              "\n",
              "    [theme=dark] .colab-df-convert:hover {\n",
              "      background-color: #434B5C;\n",
              "      box-shadow: 0px 1px 3px 1px rgba(0, 0, 0, 0.15);\n",
              "      filter: drop-shadow(0px 1px 2px rgba(0, 0, 0, 0.3));\n",
              "      fill: #FFFFFF;\n",
              "    }\n",
              "  </style>\n",
              "\n",
              "    <script>\n",
              "      const buttonEl =\n",
              "        document.querySelector('#df-c9f52e6e-143e-430f-b483-0ba8ae0da126 button.colab-df-convert');\n",
              "      buttonEl.style.display =\n",
              "        google.colab.kernel.accessAllowed ? 'block' : 'none';\n",
              "\n",
              "      async function convertToInteractive(key) {\n",
              "        const element = document.querySelector('#df-c9f52e6e-143e-430f-b483-0ba8ae0da126');\n",
              "        const dataTable =\n",
              "          await google.colab.kernel.invokeFunction('convertToInteractive',\n",
              "                                                    [key], {});\n",
              "        if (!dataTable) return;\n",
              "\n",
              "        const docLinkHtml = 'Like what you see? Visit the ' +\n",
              "          '<a target=\"_blank\" href=https://colab.research.google.com/notebooks/data_table.ipynb>data table notebook</a>'\n",
              "          + ' to learn more about interactive tables.';\n",
              "        element.innerHTML = '';\n",
              "        dataTable['output_type'] = 'display_data';\n",
              "        await google.colab.output.renderOutput(dataTable, element);\n",
              "        const docLink = document.createElement('div');\n",
              "        docLink.innerHTML = docLinkHtml;\n",
              "        element.appendChild(docLink);\n",
              "      }\n",
              "    </script>\n",
              "  </div>\n",
              "\n",
              "\n",
              "<div id=\"df-6b2c732c-b27e-4259-8d7d-3601807a8067\">\n",
              "  <button class=\"colab-df-quickchart\" onclick=\"quickchart('df-6b2c732c-b27e-4259-8d7d-3601807a8067')\"\n",
              "            title=\"Suggest charts\"\n",
              "            style=\"display:none;\">\n",
              "\n",
              "<svg xmlns=\"http://www.w3.org/2000/svg\" height=\"24px\"viewBox=\"0 0 24 24\"\n",
              "     width=\"24px\">\n",
              "    <g>\n",
              "        <path d=\"M19 3H5c-1.1 0-2 .9-2 2v14c0 1.1.9 2 2 2h14c1.1 0 2-.9 2-2V5c0-1.1-.9-2-2-2zM9 17H7v-7h2v7zm4 0h-2V7h2v10zm4 0h-2v-4h2v4z\"/>\n",
              "    </g>\n",
              "</svg>\n",
              "  </button>\n",
              "\n",
              "<style>\n",
              "  .colab-df-quickchart {\n",
              "      --bg-color: #E8F0FE;\n",
              "      --fill-color: #1967D2;\n",
              "      --hover-bg-color: #E2EBFA;\n",
              "      --hover-fill-color: #174EA6;\n",
              "      --disabled-fill-color: #AAA;\n",
              "      --disabled-bg-color: #DDD;\n",
              "  }\n",
              "\n",
              "  [theme=dark] .colab-df-quickchart {\n",
              "      --bg-color: #3B4455;\n",
              "      --fill-color: #D2E3FC;\n",
              "      --hover-bg-color: #434B5C;\n",
              "      --hover-fill-color: #FFFFFF;\n",
              "      --disabled-bg-color: #3B4455;\n",
              "      --disabled-fill-color: #666;\n",
              "  }\n",
              "\n",
              "  .colab-df-quickchart {\n",
              "    background-color: var(--bg-color);\n",
              "    border: none;\n",
              "    border-radius: 50%;\n",
              "    cursor: pointer;\n",
              "    display: none;\n",
              "    fill: var(--fill-color);\n",
              "    height: 32px;\n",
              "    padding: 0;\n",
              "    width: 32px;\n",
              "  }\n",
              "\n",
              "  .colab-df-quickchart:hover {\n",
              "    background-color: var(--hover-bg-color);\n",
              "    box-shadow: 0 1px 2px rgba(60, 64, 67, 0.3), 0 1px 3px 1px rgba(60, 64, 67, 0.15);\n",
              "    fill: var(--button-hover-fill-color);\n",
              "  }\n",
              "\n",
              "  .colab-df-quickchart-complete:disabled,\n",
              "  .colab-df-quickchart-complete:disabled:hover {\n",
              "    background-color: var(--disabled-bg-color);\n",
              "    fill: var(--disabled-fill-color);\n",
              "    box-shadow: none;\n",
              "  }\n",
              "\n",
              "  .colab-df-spinner {\n",
              "    border: 2px solid var(--fill-color);\n",
              "    border-color: transparent;\n",
              "    border-bottom-color: var(--fill-color);\n",
              "    animation:\n",
              "      spin 1s steps(1) infinite;\n",
              "  }\n",
              "\n",
              "  @keyframes spin {\n",
              "    0% {\n",
              "      border-color: transparent;\n",
              "      border-bottom-color: var(--fill-color);\n",
              "      border-left-color: var(--fill-color);\n",
              "    }\n",
              "    20% {\n",
              "      border-color: transparent;\n",
              "      border-left-color: var(--fill-color);\n",
              "      border-top-color: var(--fill-color);\n",
              "    }\n",
              "    30% {\n",
              "      border-color: transparent;\n",
              "      border-left-color: var(--fill-color);\n",
              "      border-top-color: var(--fill-color);\n",
              "      border-right-color: var(--fill-color);\n",
              "    }\n",
              "    40% {\n",
              "      border-color: transparent;\n",
              "      border-right-color: var(--fill-color);\n",
              "      border-top-color: var(--fill-color);\n",
              "    }\n",
              "    60% {\n",
              "      border-color: transparent;\n",
              "      border-right-color: var(--fill-color);\n",
              "    }\n",
              "    80% {\n",
              "      border-color: transparent;\n",
              "      border-right-color: var(--fill-color);\n",
              "      border-bottom-color: var(--fill-color);\n",
              "    }\n",
              "    90% {\n",
              "      border-color: transparent;\n",
              "      border-bottom-color: var(--fill-color);\n",
              "    }\n",
              "  }\n",
              "</style>\n",
              "\n",
              "  <script>\n",
              "    async function quickchart(key) {\n",
              "      const quickchartButtonEl =\n",
              "        document.querySelector('#' + key + ' button');\n",
              "      quickchartButtonEl.disabled = true;  // To prevent multiple clicks.\n",
              "      quickchartButtonEl.classList.add('colab-df-spinner');\n",
              "      try {\n",
              "        const charts = await google.colab.kernel.invokeFunction(\n",
              "            'suggestCharts', [key], {});\n",
              "      } catch (error) {\n",
              "        console.error('Error during call to suggestCharts:', error);\n",
              "      }\n",
              "      quickchartButtonEl.classList.remove('colab-df-spinner');\n",
              "      quickchartButtonEl.classList.add('colab-df-quickchart-complete');\n",
              "    }\n",
              "    (() => {\n",
              "      let quickchartButtonEl =\n",
              "        document.querySelector('#df-6b2c732c-b27e-4259-8d7d-3601807a8067 button');\n",
              "      quickchartButtonEl.style.display =\n",
              "        google.colab.kernel.accessAllowed ? 'block' : 'none';\n",
              "    })();\n",
              "  </script>\n",
              "</div>\n",
              "\n",
              "    </div>\n",
              "  </div>\n"
            ]
          },
          "metadata": {},
          "execution_count": 2
        }
      ]
    },
    {
      "cell_type": "markdown",
      "source": [
        "**Data Understanding:**"
      ],
      "metadata": {
        "id": "vtdMpMd1Yrkf"
      }
    },
    {
      "cell_type": "code",
      "source": [
        "print(data.info())"
      ],
      "metadata": {
        "colab": {
          "base_uri": "https://localhost:8080/"
        },
        "id": "rI9RssmJYpkS",
        "outputId": "29db569f-670b-4f01-e2b3-dd3f4b2a7042"
      },
      "execution_count": 3,
      "outputs": [
        {
          "output_type": "stream",
          "name": "stdout",
          "text": [
            "<class 'pandas.core.frame.DataFrame'>\n",
            "RangeIndex: 16598 entries, 0 to 16597\n",
            "Data columns (total 11 columns):\n",
            " #   Column        Non-Null Count  Dtype  \n",
            "---  ------        --------------  -----  \n",
            " 0   Rank          16598 non-null  int64  \n",
            " 1   Name          16598 non-null  object \n",
            " 2   Platform      16598 non-null  object \n",
            " 3   Year          16327 non-null  float64\n",
            " 4   Genre         16598 non-null  object \n",
            " 5   Publisher     16540 non-null  object \n",
            " 6   NA_Sales      16598 non-null  float64\n",
            " 7   EU_Sales      16598 non-null  float64\n",
            " 8   JP_Sales      16598 non-null  float64\n",
            " 9   Other_Sales   16598 non-null  float64\n",
            " 10  Global_Sales  16598 non-null  float64\n",
            "dtypes: float64(6), int64(1), object(4)\n",
            "memory usage: 1.4+ MB\n",
            "None\n"
          ]
        }
      ]
    },
    {
      "cell_type": "markdown",
      "source": [
        "**Data Cleaning and Preparation:**"
      ],
      "metadata": {
        "id": "qzg8ssK_Y4AY"
      }
    },
    {
      "cell_type": "code",
      "source": [
        "# Handling missing values\n",
        "data.dropna(inplace=True)"
      ],
      "metadata": {
        "id": "TH-J2h01Y56X"
      },
      "execution_count": 4,
      "outputs": []
    },
    {
      "cell_type": "code",
      "source": [
        "# Removing outliers\n",
        "# Define a function to detect outliers using z-score\n",
        "def detect_outliers(df, col):\n",
        "    z_scores = (df[col] - df[col].mean()) / df[col].std()\n",
        "    return df[abs(z_scores) < 3]"
      ],
      "metadata": {
        "id": "XMdzSPxsY9TZ"
      },
      "execution_count": 5,
      "outputs": []
    },
    {
      "cell_type": "code",
      "source": [
        "#Removing outliers in Global_Sales column\n",
        "data = data[data['Global_Sales'] < data['Global_Sales'].quantile(0.99)]"
      ],
      "metadata": {
        "id": "L9xJFnBbbkJm"
      },
      "execution_count": 6,
      "outputs": []
    },
    {
      "cell_type": "code",
      "source": [
        "#Convert Year to datetime format\n",
        "data['Year'] = pd.to_datetime(data['Year'], format='%Y')"
      ],
      "metadata": {
        "id": "B_w1sRmZbrJa"
      },
      "execution_count": 7,
      "outputs": []
    },
    {
      "cell_type": "code",
      "source": [
        "print(data['Year'].info())"
      ],
      "metadata": {
        "colab": {
          "base_uri": "https://localhost:8080/"
        },
        "id": "zGGIwBuYb28g",
        "outputId": "cf46d158-aa34-4aab-8c92-9226cdf554e6"
      },
      "execution_count": 8,
      "outputs": [
        {
          "output_type": "stream",
          "name": "stdout",
          "text": [
            "<class 'pandas.core.series.Series'>\n",
            "Int64Index: 16128 entries, 163 to 16597\n",
            "Series name: Year\n",
            "Non-Null Count  Dtype         \n",
            "--------------  -----         \n",
            "16128 non-null  datetime64[ns]\n",
            "dtypes: datetime64[ns](1)\n",
            "memory usage: 252.0 KB\n",
            "None\n"
          ]
        }
      ]
    },
    {
      "cell_type": "code",
      "source": [
        "# Apply outlier detection for sales columns\n",
        "for col in ['NA_Sales', 'EU_Sales', 'JP_Sales', 'Other_Sales', 'Global_Sales']:\n",
        "    data = detect_outliers(data, col)"
      ],
      "metadata": {
        "id": "Yk4QCQyFZHRl"
      },
      "execution_count": 9,
      "outputs": []
    },
    {
      "cell_type": "markdown",
      "source": [
        "**Descriptive Analysis:**"
      ],
      "metadata": {
        "id": "H74yYRZKZLDi"
      }
    },
    {
      "cell_type": "code",
      "source": [
        "# Summary statistics\n",
        "print(data.describe())"
      ],
      "metadata": {
        "colab": {
          "base_uri": "https://localhost:8080/"
        },
        "id": "xSU71t3xZO_8",
        "outputId": "39ed327c-2ece-4657-e6ec-1bf1547beb16"
      },
      "execution_count": 10,
      "outputs": [
        {
          "output_type": "stream",
          "name": "stdout",
          "text": [
            "               Rank      NA_Sales      EU_Sales      JP_Sales   Other_Sales  \\\n",
            "count  14598.000000  14598.000000  14598.000000  14598.000000  14598.000000   \n",
            "mean    9141.011851      0.128156      0.061558      0.037305      0.019860   \n",
            "std     4313.324812      0.175197      0.102637      0.088822      0.032281   \n",
            "min     1484.000000      0.000000      0.000000      0.000000      0.000000   \n",
            "25%     5426.250000      0.000000      0.000000      0.000000      0.000000   \n",
            "50%     9157.500000      0.060000      0.020000      0.000000      0.010000   \n",
            "75%    12871.750000      0.180000      0.070000      0.030000      0.020000   \n",
            "max    16600.000000      1.220000      0.730000      0.630000      0.220000   \n",
            "\n",
            "       Global_Sales  \n",
            "count  14598.000000  \n",
            "mean       0.247189  \n",
            "std        0.273519  \n",
            "min        0.010000  \n",
            "25%        0.050000  \n",
            "50%        0.140000  \n",
            "75%        0.340000  \n",
            "max        1.320000  \n"
          ]
        }
      ]
    },
    {
      "cell_type": "code",
      "source": [
        "# Visualize data distributions\n",
        "sns.histplot(data['Global_Sales'], bins=20, kde=True)\n",
        "plt.title('Global Sales Distribution')\n",
        "plt.xlabel('Global Sales')\n",
        "plt.ylabel('Frequency')\n",
        "plt.show()"
      ],
      "metadata": {
        "colab": {
          "base_uri": "https://localhost:8080/",
          "height": 472
        },
        "id": "5CitIKpCcF3U",
        "outputId": "b05f68d4-ba06-4e5f-cc84-7d609e4de713"
      },
      "execution_count": 11,
      "outputs": [
        {
          "output_type": "display_data",
          "data": {
            "text/plain": [
              "<Figure size 640x480 with 1 Axes>"
            ],
            "image/png": "[encoded data removed]"
          },
          "metadata": {}
        }
      ]
    },
    {
      "cell_type": "code",
      "source": [
        "# Visualize data distributions\n",
        "data[['NA_Sales', 'EU_Sales', 'JP_Sales', 'Other_Sales', 'Global_Sales']].hist(bins=20, figsize=(8, 4))\n",
        "plt.tight_layout()\n",
        "plt.show()"
      ],
      "metadata": {
        "colab": {
          "base_uri": "https://localhost:8080/",
          "height": 406
        },
        "id": "S_2rvfedZRCW",
        "outputId": "1449ddea-cdaa-40b4-b82a-1b2ed9d00458"
      },
      "execution_count": 12,
      "outputs": [
        {
          "output_type": "display_data",
          "data": {
            "text/plain": [
              "<Figure size 800x400 with 6 Axes>"
            ],
            "image/png": "[encoded data removed]"
          },
          "metadata": {}
        }
      ]
    },
    {
      "cell_type": "markdown",
      "source": [
        "**Segmentation and Profiling:**"
      ],
      "metadata": {
        "id": "hYLmKmtPZUn8"
      }
    },
    {
      "cell_type": "code",
      "source": [
        "#segmenting by Genre\n",
        "genre_groups = data.groupby('Genre')\n",
        "for genre, group_data in genre_groups:\n",
        "    print(f\"Genre: {genre}\")\n",
        "    print(group_data.describe())"
      ],
      "metadata": {
        "colab": {
          "base_uri": "https://localhost:8080/"
        },
        "id": "zGIc6GWxZWn4",
        "outputId": "3b0ede6b-75e6-4a6b-e84f-172a5d54cfd0"
      },
      "execution_count": 13,
      "outputs": [
        {
          "output_type": "stream",
          "name": "stdout",
          "text": [
            "Genre: Action\n",
            "               Rank     NA_Sales     EU_Sales     JP_Sales  Other_Sales  \\\n",
            "count   2924.000000  2924.000000  2924.000000  2924.000000  2924.000000   \n",
            "mean    8774.075581     0.139733     0.073399     0.028782     0.023697   \n",
            "std     4295.772132     0.170342     0.108401     0.073346     0.035925   \n",
            "min     1484.000000     0.000000     0.000000     0.000000     0.000000   \n",
            "25%     5058.500000     0.010000     0.000000     0.000000     0.000000   \n",
            "50%     8508.500000     0.080000     0.030000     0.000000     0.010000   \n",
            "75%    12448.500000     0.200000     0.100000     0.020000     0.030000   \n",
            "max    16592.000000     1.120000     0.640000     0.620000     0.220000   \n",
            "\n",
            "       Global_Sales  \n",
            "count   2924.000000  \n",
            "mean       0.265944  \n",
            "std        0.281355  \n",
            "min        0.010000  \n",
            "25%        0.060000  \n",
            "50%        0.160000  \n",
            "75%        0.380000  \n",
            "max        1.320000  \n",
            "Genre: Adventure\n",
            "               Rank     NA_Sales     EU_Sales     JP_Sales  Other_Sales  \\\n",
            "count   1242.000000  1242.000000  1242.000000  1242.000000  1242.000000   \n",
            "mean   11812.929952     0.053430     0.029428     0.033768     0.008559   \n",
            "std     3955.662886     0.105938     0.071125     0.067431     0.019881   \n",
            "min     1508.000000     0.000000     0.000000     0.000000     0.000000   \n",
            "25%     9003.750000     0.000000     0.000000     0.000000     0.000000   \n",
            "50%    13018.000000     0.000000     0.000000     0.010000     0.000000   \n",
            "75%    15179.500000     0.070000     0.020000     0.030000     0.010000   \n",
            "max    16594.000000     0.760000     0.670000     0.620000     0.220000   \n",
            "\n",
            "       Global_Sales  \n",
            "count   1242.000000  \n",
            "mean       0.125386  \n",
            "std        0.185107  \n",
            "min        0.010000  \n",
            "25%        0.020000  \n",
            "50%        0.050000  \n",
            "75%        0.140000  \n",
            "max        1.310000  \n",
            "Genre: Fighting\n",
            "               Rank    NA_Sales    EU_Sales    JP_Sales  Other_Sales  \\\n",
            "count    736.000000  736.000000  736.000000  736.000000   736.000000   \n",
            "mean    8525.069293    0.126128    0.059280    0.066943     0.020897   \n",
            "std     4125.455638    0.167847    0.095814    0.112706     0.034266   \n",
            "min     1494.000000    0.000000    0.000000    0.000000     0.000000   \n",
            "25%     5084.000000    0.000000    0.000000    0.000000     0.000000   \n",
            "50%     8569.500000    0.060000    0.020000    0.010000     0.010000   \n",
            "75%    11875.250000    0.190000    0.080000    0.082500     0.030000   \n",
            "max    16566.000000    0.880000    0.520000    0.630000     0.200000   \n",
            "\n",
            "       Global_Sales  \n",
            "count    736.000000  \n",
            "mean       0.273220  \n",
            "std        0.279208  \n",
            "min        0.010000  \n",
            "25%        0.070000  \n",
            "50%        0.160000  \n",
            "75%        0.372500  \n",
            "max        1.320000  \n",
            "Genre: Misc\n",
            "               Rank     NA_Sales     EU_Sales     JP_Sales  Other_Sales  \\\n",
            "count   1531.000000  1531.000000  1531.000000  1531.000000  1531.000000   \n",
            "mean    9321.558459     0.123494     0.052012     0.030261     0.017975   \n",
            "std     4099.055909     0.170070     0.096898     0.078750     0.029545   \n",
            "min     1503.000000     0.000000     0.000000     0.000000     0.000000   \n",
            "25%     5949.500000     0.000000     0.000000     0.000000     0.000000   \n",
            "50%     9381.000000     0.070000     0.010000     0.000000     0.010000   \n",
            "75%    12745.000000     0.170000     0.060000     0.020000     0.020000   \n",
            "max    16545.000000     1.220000     0.690000     0.630000     0.220000   \n",
            "\n",
            "       Global_Sales  \n",
            "count   1531.000000  \n",
            "mean       0.224180  \n",
            "std        0.245787  \n",
            "min        0.010000  \n",
            "25%        0.060000  \n",
            "50%        0.130000  \n",
            "75%        0.295000  \n",
            "max        1.310000  \n",
            "Genre: Platform\n",
            "               Rank    NA_Sales    EU_Sales    JP_Sales  Other_Sales  \\\n",
            "count    721.000000  721.000000  721.000000  721.000000   721.000000   \n",
            "mean    8176.313454    0.177712    0.078738    0.031276     0.021096   \n",
            "std     4236.817262    0.199132    0.109028    0.089804     0.032068   \n",
            "min     1507.000000    0.000000    0.000000    0.000000     0.000000   \n",
            "25%     4407.000000    0.040000    0.010000    0.000000     0.000000   \n",
            "50%     8107.000000    0.100000    0.040000    0.000000     0.010000   \n",
            "75%    11665.000000    0.250000    0.100000    0.000000     0.030000   \n",
            "max    16600.000000    1.220000    0.640000    0.620000     0.220000   \n",
            "\n",
            "       Global_Sales  \n",
            "count    721.000000  \n",
            "mean       0.309293  \n",
            "std        0.315986  \n",
            "min        0.010000  \n",
            "25%        0.080000  \n",
            "50%        0.180000  \n",
            "75%        0.450000  \n",
            "max        1.310000  \n",
            "Genre: Puzzle\n",
            "               Rank    NA_Sales    EU_Sales    JP_Sales  Other_Sales  \\\n",
            "count    519.000000  519.000000  519.000000  519.000000   519.000000   \n",
            "mean   10479.221580    0.092736    0.035645    0.037823     0.010039   \n",
            "std     4106.489981    0.135881    0.075221    0.100443     0.017531   \n",
            "min     1492.000000    0.000000    0.000000    0.000000     0.000000   \n",
            "25%     7250.000000    0.010000    0.000000    0.000000     0.000000   \n",
            "50%    11192.000000    0.040000    0.000000    0.000000     0.000000   \n",
            "75%    13861.000000    0.110000    0.030000    0.000000     0.010000   \n",
            "max    16599.000000    0.770000    0.490000    0.630000     0.140000   \n",
            "\n",
            "       Global_Sales  \n",
            "count    519.000000  \n",
            "mean       0.177148  \n",
            "std        0.229573  \n",
            "min        0.010000  \n",
            "25%        0.040000  \n",
            "50%        0.090000  \n",
            "75%        0.220000  \n",
            "max        1.320000  \n",
            "Genre: Racing\n",
            "               Rank     NA_Sales     EU_Sales     JP_Sales  Other_Sales  \\\n",
            "count   1094.000000  1094.000000  1094.000000  1094.000000  1094.000000   \n",
            "mean    8753.384826     0.154150     0.085878     0.010347     0.024698   \n",
            "std     4323.855481     0.192325     0.120666     0.045877     0.037629   \n",
            "min     1498.000000     0.000000     0.000000     0.000000     0.000000   \n",
            "25%     5018.250000     0.030000     0.010000     0.000000     0.000000   \n",
            "50%     8722.000000     0.080000     0.040000     0.000000     0.010000   \n",
            "75%    12399.250000     0.210000     0.110000     0.000000     0.030000   \n",
            "max    16598.000000     1.220000     0.710000     0.550000     0.220000   \n",
            "\n",
            "       Global_Sales  \n",
            "count   1094.000000  \n",
            "mean       0.275402  \n",
            "std        0.301203  \n",
            "min        0.010000  \n",
            "25%        0.060000  \n",
            "50%        0.150000  \n",
            "75%        0.380000  \n",
            "max        1.320000  \n",
            "Genre: Role-Playing\n",
            "               Rank     NA_Sales     EU_Sales     JP_Sales  Other_Sales  \\\n",
            "count   1277.000000  1277.000000  1277.000000  1277.000000  1277.000000   \n",
            "mean    9121.296006     0.088121     0.042913     0.092592     0.015936   \n",
            "std     4163.412555     0.141553     0.080761     0.126676     0.027125   \n",
            "min     1487.000000     0.000000     0.000000     0.000000     0.000000   \n",
            "25%     5780.000000     0.000000     0.000000     0.000000     0.000000   \n",
            "50%     9089.000000     0.030000     0.000000     0.040000     0.010000   \n",
            "75%    12706.000000     0.120000     0.050000     0.130000     0.020000   \n",
            "max    16593.000000     1.030000     0.630000     0.630000     0.220000   \n",
            "\n",
            "       Global_Sales  \n",
            "count   1277.000000  \n",
            "mean       0.239632  \n",
            "std        0.261328  \n",
            "min        0.010000  \n",
            "25%        0.060000  \n",
            "50%        0.140000  \n",
            "75%        0.310000  \n",
            "max        1.320000  \n",
            "Genre: Shooter\n",
            "               Rank     NA_Sales     EU_Sales     JP_Sales  Other_Sales  \\\n",
            "count   1088.000000  1088.000000  1088.000000  1088.000000  1088.000000   \n",
            "mean    8508.290441     0.164210     0.088640     0.016664     0.027923   \n",
            "std     4456.644484     0.199064     0.116082     0.058354     0.040260   \n",
            "min     1496.000000     0.000000     0.000000     0.000000     0.000000   \n",
            "25%     4340.250000     0.030000     0.010000     0.000000     0.000000   \n",
            "50%     8433.000000     0.090000     0.040000     0.000000     0.010000   \n",
            "75%    12356.250000     0.240000     0.130000     0.000000     0.040000   \n",
            "max    16597.000000     1.180000     0.690000     0.620000     0.220000   \n",
            "\n",
            "       Global_Sales  \n",
            "count   1088.000000  \n",
            "mean       0.297886  \n",
            "std        0.311112  \n",
            "min        0.010000  \n",
            "25%        0.060000  \n",
            "50%        0.170000  \n",
            "75%        0.450000  \n",
            "max        1.320000  \n",
            "Genre: Simulation\n",
            "               Rank    NA_Sales    EU_Sales    JP_Sales  Other_Sales  \\\n",
            "count    769.000000  769.000000  769.000000  769.000000   769.000000   \n",
            "mean    9340.036411    0.131118    0.049844    0.035644     0.018244   \n",
            "std     4343.632544    0.175531    0.093689    0.090609     0.027912   \n",
            "min     1542.000000    0.000000    0.000000    0.000000     0.000000   \n",
            "25%     5478.000000    0.000000    0.000000    0.000000     0.000000   \n",
            "50%     9522.000000    0.060000    0.010000    0.000000     0.010000   \n",
            "75%    13100.000000    0.200000    0.050000    0.020000     0.020000   \n",
            "max    16595.000000    1.220000    0.640000    0.620000     0.220000   \n",
            "\n",
            "       Global_Sales  \n",
            "count    769.000000  \n",
            "mean       0.235150  \n",
            "std        0.260909  \n",
            "min        0.010000  \n",
            "25%        0.050000  \n",
            "50%        0.130000  \n",
            "75%        0.330000  \n",
            "max        1.280000  \n",
            "Genre: Sports\n",
            "               Rank     NA_Sales     EU_Sales     JP_Sales  Other_Sales  \\\n",
            "count   2058.000000  2058.000000  2058.000000  2058.000000  2058.000000   \n",
            "mean    8192.985909     0.164806     0.067804     0.032843     0.023022   \n",
            "std     4062.290062     0.202271     0.113203     0.087302     0.033264   \n",
            "min     1493.000000     0.000000     0.000000     0.000000     0.000000   \n",
            "25%     4733.500000     0.010000     0.000000     0.000000     0.000000   \n",
            "50%     7917.500000     0.090000     0.020000     0.000000     0.010000   \n",
            "75%    11387.000000     0.230000     0.080000     0.000000     0.030000   \n",
            "max    16590.000000     1.130000     0.730000     0.590000     0.220000   \n",
            "\n",
            "       Global_Sales  \n",
            "count   2058.000000  \n",
            "mean       0.288664  \n",
            "std        0.279430  \n",
            "min        0.010000  \n",
            "25%        0.080000  \n",
            "50%        0.190000  \n",
            "75%        0.410000  \n",
            "max        1.320000  \n",
            "Genre: Strategy\n",
            "               Rank    NA_Sales    EU_Sales    JP_Sales  Other_Sales  \\\n",
            "count    639.000000  639.000000  639.000000  639.000000   639.000000   \n",
            "mean   10499.325509    0.059296    0.040469    0.059484     0.011768   \n",
            "std     4135.705678    0.122313    0.077164    0.118624     0.021250   \n",
            "min     1509.000000    0.000000    0.000000    0.000000     0.000000   \n",
            "25%     7069.000000    0.000000    0.000000    0.000000     0.000000   \n",
            "50%    11097.000000    0.000000    0.010000    0.000000     0.000000   \n",
            "75%    14106.500000    0.070000    0.040000    0.060000     0.010000   \n",
            "max    16569.000000    1.190000    0.640000    0.600000     0.170000   \n",
            "\n",
            "       Global_Sales  \n",
            "count    639.000000  \n",
            "mean       0.171471  \n",
            "std        0.208228  \n",
            "min        0.010000  \n",
            "25%        0.030000  \n",
            "50%        0.090000  \n",
            "75%        0.230000  \n",
            "max        1.310000  \n"
          ]
        }
      ]
    },
    {
      "cell_type": "markdown",
      "source": [
        "**Correlation and Trends:**"
      ],
      "metadata": {
        "id": "iZpWz9h0ZlV-"
      }
    },
    {
      "cell_type": "code",
      "source": [
        "# Correlation matrix\n",
        "correlation_matrix = data.corr()\n",
        "print(correlation_matrix)"
      ],
      "metadata": {
        "colab": {
          "base_uri": "https://localhost:8080/"
        },
        "id": "umY-qwrIZgKm",
        "outputId": "8b942f84-0d62-4383-a466-f5281a3a1ee9"
      },
      "execution_count": 14,
      "outputs": [
        {
          "output_type": "stream",
          "name": "stdout",
          "text": [
            "                  Rank  NA_Sales  EU_Sales  JP_Sales  Other_Sales  \\\n",
            "Rank          1.000000 -0.732888 -0.629139 -0.248371    -0.656816   \n",
            "NA_Sales     -0.732888  1.000000  0.513408 -0.118101     0.593643   \n",
            "EU_Sales     -0.629139  0.513408  1.000000 -0.087906     0.780590   \n",
            "JP_Sales     -0.248371 -0.118101 -0.087906  1.000000    -0.050698   \n",
            "Other_Sales  -0.656816  0.593643  0.780590 -0.050698     1.000000   \n",
            "Global_Sales -0.862347  0.864086  0.767183  0.209550     0.773436   \n",
            "\n",
            "              Global_Sales  \n",
            "Rank             -0.862347  \n",
            "NA_Sales          0.864086  \n",
            "EU_Sales          0.767183  \n",
            "JP_Sales          0.209550  \n",
            "Other_Sales       0.773436  \n",
            "Global_Sales      1.000000  \n"
          ]
        },
        {
          "output_type": "stream",
          "name": "stderr",
          "text": [
            "<ipython-input-14-dd3106a641cc>:2: FutureWarning: The default value of numeric_only in DataFrame.corr is deprecated. In a future version, it will default to False. Select only valid columns or specify the value of numeric_only to silence this warning.\n",
            "  correlation_matrix = data.corr()\n"
          ]
        }
      ]
    },
    {
      "cell_type": "code",
      "source": [
        "# Visualize correlations\n",
        "plt.figure(figsize=(6, 4))\n",
        "sns.heatmap(correlation_matrix, annot=True, cmap='coolwarm', fmt=\".2f\")\n",
        "plt.title('Correlation Matrix')\n",
        "plt.show()"
      ],
      "metadata": {
        "colab": {
          "base_uri": "https://localhost:8080/",
          "height": 465
        },
        "id": "tdS3cpZdcN2j",
        "outputId": "5ae71cde-39ef-480c-fc96-4f5858eee35f"
      },
      "execution_count": 15,
      "outputs": [
        {
          "output_type": "display_data",
          "data": {
            "text/plain": [
              "<Figure size 600x400 with 2 Axes>"
            ],
            "image/png": "[encoded data removed]"
          },
          "metadata": {}
        }
      ]
    }
  ]
}