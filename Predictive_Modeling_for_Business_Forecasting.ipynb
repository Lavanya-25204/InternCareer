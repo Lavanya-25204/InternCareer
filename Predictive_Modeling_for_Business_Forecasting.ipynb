{
  "nbformat": 4,
  "nbformat_minor": 0,
  "metadata": {
    "colab": {
      "provenance": []
    },
    "kernelspec": {
      "name": "python3",
      "display_name": "Python 3"
    },
    "language_info": {
      "name": "python"
    }
  },
  "cells": [
    {
      "cell_type": "markdown",
      "source": [
        "**Data Collection and Preprocessing:**\n",
        "\n"
      ],
      "metadata": {
        "id": "YwbCIfbddguS"
      }
    },
    {
      "cell_type": "code",
      "source": [
        "import pandas as pd\n",
        "import numpy as np\n",
        "import matplotlib.pyplot as plt\n",
        "from sklearn.preprocessing import PolynomialFeatures\n",
        "from sklearn.impute import SimpleImputer"
      ],
      "metadata": {
        "id": "VFH2VoM9a6Fm"
      },
      "execution_count": null,
      "outputs": []
    },
    {
      "cell_type": "code",
      "source": [
        "data = pd.read_csv(\"/content/Financial Distress.csv\")\n",
        "data.head()"
      ],
      "metadata": {
        "colab": {
          "base_uri": "https://localhost:8080/",
          "height": 273
        },
        "id": "qQhpl6dddAWm",
        "outputId": "d6290d86-f4b6-48d7-d879-81d08a7bf0d0"
      },
      "execution_count": null,
      "outputs": [
        {
          "output_type": "execute_result",
          "data": {
            "text/plain": [
              "   Company  Time  Financial Distress      x1        x2       x3       x4  \\\n",
              "0        1     1            0.010636  1.2810  0.022934  0.87454  1.21640   \n",
              "1        1     2           -0.455970  1.2700  0.006454  0.82067  1.00490   \n",
              "2        1     3           -0.325390  1.0529 -0.059379  0.92242  0.72926   \n",
              "3        1     4           -0.566570  1.1131 -0.015229  0.85888  0.80974   \n",
              "4        2     1            1.357300  1.0623  0.107020  0.81460  0.83593   \n",
              "\n",
              "         x5        x6       x7  ...      x74    x75     x76     x77   x78  \\\n",
              "0  0.060940  0.188270  0.52510  ...   85.437  27.07  26.102  16.000  16.0   \n",
              "1 -0.014080  0.181040  0.62288  ...  107.090  31.31  30.194  17.000  16.0   \n",
              "2  0.020476  0.044865  0.43292  ...  120.870  36.07  35.273  17.000  15.0   \n",
              "3  0.076037  0.091033  0.67546  ...   54.806  39.80  38.377  17.167  16.0   \n",
              "4  0.199960  0.047800  0.74200  ...   85.437  27.07  26.102  16.000  16.0   \n",
              "\n",
              "   x79  x80       x81  x82  x83  \n",
              "0  0.2   22  0.060390   30   49  \n",
              "1  0.4   22  0.010636   31   50  \n",
              "2 -0.2   22 -0.455970   32   51  \n",
              "3  5.6   22 -0.325390   33   52  \n",
              "4  0.2   29  1.251000    7   27  \n",
              "\n",
              "[5 rows x 86 columns]"
            ],
            "text/html": [
              "\n",
              "  <div id=\"df-48ec7623-2cf3-4acd-8091-50737209dbdf\" class=\"colab-df-container\">\n",
              "    <div>\n",
              "<style scoped>\n",
              "    .dataframe tbody tr th:only-of-type {\n",
              "        vertical-align: middle;\n",
              "    }\n",
              "\n",
              "    .dataframe tbody tr th {\n",
              "        vertical-align: top;\n",
              "    }\n",
              "\n",
              "    .dataframe thead th {\n",
              "        text-align: right;\n",
              "    }\n",
              "</style>\n",
              "<table border=\"1\" class=\"dataframe\">\n",
              "  <thead>\n",
              "    <tr style=\"text-align: right;\">\n",
              "      <th></th>\n",
              "      <th>Company</th>\n",
              "      <th>Time</th>\n",
              "      <th>Financial Distress</th>\n",
              "      <th>x1</th>\n",
              "      <th>x2</th>\n",
              "      <th>x3</th>\n",
              "      <th>x4</th>\n",
              "      <th>x5</th>\n",
              "      <th>x6</th>\n",
              "      <th>x7</th>\n",
              "      <th>...</th>\n",
              "      <th>x74</th>\n",
              "      <th>x75</th>\n",
              "      <th>x76</th>\n",
              "      <th>x77</th>\n",
              "      <th>x78</th>\n",
              "      <th>x79</th>\n",
              "      <th>x80</th>\n",
              "      <th>x81</th>\n",
              "      <th>x82</th>\n",
              "      <th>x83</th>\n",
              "    </tr>\n",
              "  </thead>\n",
              "  <tbody>\n",
              "    <tr>\n",
              "      <th>0</th>\n",
              "      <td>1</td>\n",
              "      <td>1</td>\n",
              "      <td>0.010636</td>\n",
              "      <td>1.2810</td>\n",
              "      <td>0.022934</td>\n",
              "      <td>0.87454</td>\n",
              "      <td>1.21640</td>\n",
              "      <td>0.060940</td>\n",
              "      <td>0.188270</td>\n",
              "      <td>0.52510</td>\n",
              "      <td>...</td>\n",
              "      <td>85.437</td>\n",
              "      <td>27.07</td>\n",
              "      <td>26.102</td>\n",
              "      <td>16.000</td>\n",
              "      <td>16.0</td>\n",
              "      <td>0.2</td>\n",
              "      <td>22</td>\n",
              "      <td>0.060390</td>\n",
              "      <td>30</td>\n",
              "      <td>49</td>\n",
              "    </tr>\n",
              "    <tr>\n",
              "      <th>1</th>\n",
              "      <td>1</td>\n",
              "      <td>2</td>\n",
              "      <td>-0.455970</td>\n",
              "      <td>1.2700</td>\n",
              "      <td>0.006454</td>\n",
              "      <td>0.82067</td>\n",
              "      <td>1.00490</td>\n",
              "      <td>-0.014080</td>\n",
              "      <td>0.181040</td>\n",
              "      <td>0.62288</td>\n",
              "      <td>...</td>\n",
              "      <td>107.090</td>\n",
              "      <td>31.31</td>\n",
              "      <td>30.194</td>\n",
              "      <td>17.000</td>\n",
              "      <td>16.0</td>\n",
              "      <td>0.4</td>\n",
              "      <td>22</td>\n",
              "      <td>0.010636</td>\n",
              "      <td>31</td>\n",
              "      <td>50</td>\n",
              "    </tr>\n",
              "    <tr>\n",
              "      <th>2</th>\n",
              "      <td>1</td>\n",
              "      <td>3</td>\n",
              "      <td>-0.325390</td>\n",
              "      <td>1.0529</td>\n",
              "      <td>-0.059379</td>\n",
              "      <td>0.92242</td>\n",
              "      <td>0.72926</td>\n",
              "      <td>0.020476</td>\n",
              "      <td>0.044865</td>\n",
              "      <td>0.43292</td>\n",
              "      <td>...</td>\n",
              "      <td>120.870</td>\n",
              "      <td>36.07</td>\n",
              "      <td>35.273</td>\n",
              "      <td>17.000</td>\n",
              "      <td>15.0</td>\n",
              "      <td>-0.2</td>\n",
              "      <td>22</td>\n",
              "      <td>-0.455970</td>\n",
              "      <td>32</td>\n",
              "      <td>51</td>\n",
              "    </tr>\n",
              "    <tr>\n",
              "      <th>3</th>\n",
              "      <td>1</td>\n",
              "      <td>4</td>\n",
              "      <td>-0.566570</td>\n",
              "      <td>1.1131</td>\n",
              "      <td>-0.015229</td>\n",
              "      <td>0.85888</td>\n",
              "      <td>0.80974</td>\n",
              "      <td>0.076037</td>\n",
              "      <td>0.091033</td>\n",
              "      <td>0.67546</td>\n",
              "      <td>...</td>\n",
              "      <td>54.806</td>\n",
              "      <td>39.80</td>\n",
              "      <td>38.377</td>\n",
              "      <td>17.167</td>\n",
              "      <td>16.0</td>\n",
              "      <td>5.6</td>\n",
              "      <td>22</td>\n",
              "      <td>-0.325390</td>\n",
              "      <td>33</td>\n",
              "      <td>52</td>\n",
              "    </tr>\n",
              "    <tr>\n",
              "      <th>4</th>\n",
              "      <td>2</td>\n",
              "      <td>1</td>\n",
              "      <td>1.357300</td>\n",
              "      <td>1.0623</td>\n",
              "      <td>0.107020</td>\n",
              "      <td>0.81460</td>\n",
              "      <td>0.83593</td>\n",
              "      <td>0.199960</td>\n",
              "      <td>0.047800</td>\n",
              "      <td>0.74200</td>\n",
              "      <td>...</td>\n",
              "      <td>85.437</td>\n",
              "      <td>27.07</td>\n",
              "      <td>26.102</td>\n",
              "      <td>16.000</td>\n",
              "      <td>16.0</td>\n",
              "      <td>0.2</td>\n",
              "      <td>29</td>\n",
              "      <td>1.251000</td>\n",
              "      <td>7</td>\n",
              "      <td>27</td>\n",
              "    </tr>\n",
              "  </tbody>\n",
              "</table>\n",
              "<p>5 rows × 86 columns</p>\n",
              "</div>\n",
              "    <div class=\"colab-df-buttons\">\n",
              "\n",
              "  <div class=\"colab-df-container\">\n",
              "    <button class=\"colab-df-convert\" onclick=\"convertToInteractive('df-48ec7623-2cf3-4acd-8091-50737209dbdf')\"\n",
              "            title=\"Convert this dataframe to an interactive table.\"\n",
              "            style=\"display:none;\">\n",
              "\n",
              "  <svg xmlns=\"http://www.w3.org/2000/svg\" height=\"24px\" viewBox=\"0 -960 960 960\">\n",
              "    <path d=\"M120-120v-720h720v720H120Zm60-500h600v-160H180v160Zm220 220h160v-160H400v160Zm0 220h160v-160H400v160ZM180-400h160v-160H180v160Zm440 0h160v-160H620v160ZM180-180h160v-160H180v160Zm440 0h160v-160H620v160Z\"/>\n",
              "  </svg>\n",
              "    </button>\n",
              "\n",
              "  <style>\n",
              "    .colab-df-container {\n",
              "      display:flex;\n",
              "      gap: 12px;\n",
              "    }\n",
              "\n",
              "    .colab-df-convert {\n",
              "      background-color: #E8F0FE;\n",
              "      border: none;\n",
              "      border-radius: 50%;\n",
              "      cursor: pointer;\n",
              "      display: none;\n",
              "      fill: #1967D2;\n",
              "      height: 32px;\n",
              "      padding: 0 0 0 0;\n",
              "      width: 32px;\n",
              "    }\n",
              "\n",
              "    .colab-df-convert:hover {\n",
              "      background-color: #E2EBFA;\n",
              "      box-shadow: 0px 1px 2px rgba(60, 64, 67, 0.3), 0px 1px 3px 1px rgba(60, 64, 67, 0.15);\n",
              "      fill: #174EA6;\n",
              "    }\n",
              "\n",
              "    .colab-df-buttons div {\n",
              "      margin-bottom: 4px;\n",
              "    }\n",
              "\n",
              "    [theme=dark] .colab-df-convert {\n",
              "      background-color: #3B4455;\n",
              "      fill: #D2E3FC;\n",
              "    }\n",
              "\n",
              "    [theme=dark] .colab-df-convert:hover {\n",
              "      background-color: #434B5C;\n",
              "      box-shadow: 0px 1px 3px 1px rgba(0, 0, 0, 0.15);\n",
              "      filter: drop-shadow(0px 1px 2px rgba(0, 0, 0, 0.3));\n",
              "      fill: #FFFFFF;\n",
              "    }\n",
              "  </style>\n",
              "\n",
              "    <script>\n",
              "      const buttonEl =\n",
              "        document.querySelector('#df-48ec7623-2cf3-4acd-8091-50737209dbdf button.colab-df-convert');\n",
              "      buttonEl.style.display =\n",
              "        google.colab.kernel.accessAllowed ? 'block' : 'none';\n",
              "\n",
              "      async function convertToInteractive(key) {\n",
              "        const element = document.querySelector('#df-48ec7623-2cf3-4acd-8091-50737209dbdf');\n",
              "        const dataTable =\n",
              "          await google.colab.kernel.invokeFunction('convertToInteractive',\n",
              "                                                    [key], {});\n",
              "        if (!dataTable) return;\n",
              "\n",
              "        const docLinkHtml = 'Like what you see? Visit the ' +\n",
              "          '<a target=\"_blank\" href=https://colab.research.google.com/notebooks/data_table.ipynb>data table notebook</a>'\n",
              "          + ' to learn more about interactive tables.';\n",
              "        element.innerHTML = '';\n",
              "        dataTable['output_type'] = 'display_data';\n",
              "        await google.colab.output.renderOutput(dataTable, element);\n",
              "        const docLink = document.createElement('div');\n",
              "        docLink.innerHTML = docLinkHtml;\n",
              "        element.appendChild(docLink);\n",
              "      }\n",
              "    </script>\n",
              "  </div>\n",
              "\n",
              "\n",
              "<div id=\"df-5e1dd9de-12ae-42d1-8384-71c8fe8e8410\">\n",
              "  <button class=\"colab-df-quickchart\" onclick=\"quickchart('df-5e1dd9de-12ae-42d1-8384-71c8fe8e8410')\"\n",
              "            title=\"Suggest charts\"\n",
              "            style=\"display:none;\">\n",
              "\n",
              "<svg xmlns=\"http://www.w3.org/2000/svg\" height=\"24px\"viewBox=\"0 0 24 24\"\n",
              "     width=\"24px\">\n",
              "    <g>\n",
              "        <path d=\"M19 3H5c-1.1 0-2 .9-2 2v14c0 1.1.9 2 2 2h14c1.1 0 2-.9 2-2V5c0-1.1-.9-2-2-2zM9 17H7v-7h2v7zm4 0h-2V7h2v10zm4 0h-2v-4h2v4z\"/>\n",
              "    </g>\n",
              "</svg>\n",
              "  </button>\n",
              "\n",
              "<style>\n",
              "  .colab-df-quickchart {\n",
              "      --bg-color: #E8F0FE;\n",
              "      --fill-color: #1967D2;\n",
              "      --hover-bg-color: #E2EBFA;\n",
              "      --hover-fill-color: #174EA6;\n",
              "      --disabled-fill-color: #AAA;\n",
              "      --disabled-bg-color: #DDD;\n",
              "  }\n",
              "\n",
              "  [theme=dark] .colab-df-quickchart {\n",
              "      --bg-color: #3B4455;\n",
              "      --fill-color: #D2E3FC;\n",
              "      --hover-bg-color: #434B5C;\n",
              "      --hover-fill-color: #FFFFFF;\n",
              "      --disabled-bg-color: #3B4455;\n",
              "      --disabled-fill-color: #666;\n",
              "  }\n",
              "\n",
              "  .colab-df-quickchart {\n",
              "    background-color: var(--bg-color);\n",
              "    border: none;\n",
              "    border-radius: 50%;\n",
              "    cursor: pointer;\n",
              "    display: none;\n",
              "    fill: var(--fill-color);\n",
              "    height: 32px;\n",
              "    padding: 0;\n",
              "    width: 32px;\n",
              "  }\n",
              "\n",
              "  .colab-df-quickchart:hover {\n",
              "    background-color: var(--hover-bg-color);\n",
              "    box-shadow: 0 1px 2px rgba(60, 64, 67, 0.3), 0 1px 3px 1px rgba(60, 64, 67, 0.15);\n",
              "    fill: var(--button-hover-fill-color);\n",
              "  }\n",
              "\n",
              "  .colab-df-quickchart-complete:disabled,\n",
              "  .colab-df-quickchart-complete:disabled:hover {\n",
              "    background-color: var(--disabled-bg-color);\n",
              "    fill: var(--disabled-fill-color);\n",
              "    box-shadow: none;\n",
              "  }\n",
              "\n",
              "  .colab-df-spinner {\n",
              "    border: 2px solid var(--fill-color);\n",
              "    border-color: transparent;\n",
              "    border-bottom-color: var(--fill-color);\n",
              "    animation:\n",
              "      spin 1s steps(1) infinite;\n",
              "  }\n",
              "\n",
              "  @keyframes spin {\n",
              "    0% {\n",
              "      border-color: transparent;\n",
              "      border-bottom-color: var(--fill-color);\n",
              "      border-left-color: var(--fill-color);\n",
              "    }\n",
              "    20% {\n",
              "      border-color: transparent;\n",
              "      border-left-color: var(--fill-color);\n",
              "      border-top-color: var(--fill-color);\n",
              "    }\n",
              "    30% {\n",
              "      border-color: transparent;\n",
              "      border-left-color: var(--fill-color);\n",
              "      border-top-color: var(--fill-color);\n",
              "      border-right-color: var(--fill-color);\n",
              "    }\n",
              "    40% {\n",
              "      border-color: transparent;\n",
              "      border-right-color: var(--fill-color);\n",
              "      border-top-color: var(--fill-color);\n",
              "    }\n",
              "    60% {\n",
              "      border-color: transparent;\n",
              "      border-right-color: var(--fill-color);\n",
              "    }\n",
              "    80% {\n",
              "      border-color: transparent;\n",
              "      border-right-color: var(--fill-color);\n",
              "      border-bottom-color: var(--fill-color);\n",
              "    }\n",
              "    90% {\n",
              "      border-color: transparent;\n",
              "      border-bottom-color: var(--fill-color);\n",
              "    }\n",
              "  }\n",
              "</style>\n",
              "\n",
              "  <script>\n",
              "    async function quickchart(key) {\n",
              "      const quickchartButtonEl =\n",
              "        document.querySelector('#' + key + ' button');\n",
              "      quickchartButtonEl.disabled = true;  // To prevent multiple clicks.\n",
              "      quickchartButtonEl.classList.add('colab-df-spinner');\n",
              "      try {\n",
              "        const charts = await google.colab.kernel.invokeFunction(\n",
              "            'suggestCharts', [key], {});\n",
              "      } catch (error) {\n",
              "        console.error('Error during call to suggestCharts:', error);\n",
              "      }\n",
              "      quickchartButtonEl.classList.remove('colab-df-spinner');\n",
              "      quickchartButtonEl.classList.add('colab-df-quickchart-complete');\n",
              "    }\n",
              "    (() => {\n",
              "      let quickchartButtonEl =\n",
              "        document.querySelector('#df-5e1dd9de-12ae-42d1-8384-71c8fe8e8410 button');\n",
              "      quickchartButtonEl.style.display =\n",
              "        google.colab.kernel.accessAllowed ? 'block' : 'none';\n",
              "    })();\n",
              "  </script>\n",
              "</div>\n",
              "\n",
              "    </div>\n",
              "  </div>\n"
            ]
          },
          "metadata": {},
          "execution_count": 17
        }
      ]
    },
    {
      "cell_type": "code",
      "source": [
        "print(data.isnull().sum())"
      ],
      "metadata": {
        "colab": {
          "base_uri": "https://localhost:8080/"
        },
        "id": "Un3D4fPZdQw9",
        "outputId": "cdaa3b82-ca65-4014-94e9-d495fb64d3b4"
      },
      "execution_count": null,
      "outputs": [
        {
          "output_type": "stream",
          "name": "stdout",
          "text": [
            "Company               0\n",
            "Time                  0\n",
            "Financial Distress    0\n",
            "x1                    0\n",
            "x2                    0\n",
            "                     ..\n",
            "x79                   0\n",
            "x80                   0\n",
            "x81                   0\n",
            "x82                   0\n",
            "x83                   0\n",
            "Length: 86, dtype: int64\n"
          ]
        }
      ]
    },
    {
      "cell_type": "markdown",
      "source": [
        "**Feature Selection and Engineering:**"
      ],
      "metadata": {
        "id": "nyrD9UY3dotF"
      }
    },
    {
      "cell_type": "code",
      "source": [
        "#correlation_matrix\n",
        "correlation_matrix = data.corr().abs()\n",
        "upper_tri = correlation_matrix.where(np.triu(np.ones(correlation_matrix.shape), k=1).astype(np.bool))\n",
        "to_drop = [column for column in upper_tri.columns if any(upper_tri[column] > 0.95)]\n",
        "data.drop(to_drop, axis=1, inplace=True)"
      ],
      "metadata": {
        "colab": {
          "base_uri": "https://localhost:8080/"
        },
        "id": "mZvlUuVKdT-A",
        "outputId": "5add877c-866c-4f3e-8866-d0747034ebf3"
      },
      "execution_count": null,
      "outputs": [
        {
          "output_type": "stream",
          "name": "stderr",
          "text": [
            "<ipython-input-19-891450e28ae9>:3: DeprecationWarning: `np.bool` is a deprecated alias for the builtin `bool`. To silence this warning, use `bool` by itself. Doing this will not modify any behavior and is safe. If you specifically wanted the numpy scalar type, use `np.bool_` here.\n",
            "Deprecated in NumPy 1.20; for more details and guidance: https://numpy.org/devdocs/release/1.20.0-notes.html#deprecations\n",
            "  upper_tri = correlation_matrix.where(np.triu(np.ones(correlation_matrix.shape), k=1).astype(np.bool))\n"
          ]
        }
      ]
    },
    {
      "cell_type": "code",
      "source": [
        "# Define the features (X) and target variable (y)\n",
        "X = data.drop(columns=['Financial Distress'])\n",
        "y = data['Financial Distress']"
      ],
      "metadata": {
        "id": "_az9KrR-juuk"
      },
      "execution_count": null,
      "outputs": []
    },
    {
      "cell_type": "code",
      "source": [
        "# Handle missing values by imputing them with the mean of each column\n",
        "imputer = SimpleImputer(strategy='mean')\n",
        "X_imputed = imputer.fit_transform(X)\n",
        "\n",
        "# Feature engineering: Creating new features that might improve the model's predictive power\n",
        "poly = PolynomialFeatures(degree=2, include_bias=False)\n",
        "X_poly = poly.fit_transform(X_imputed)"
      ],
      "metadata": {
        "id": "NTTr6l7sd_gG"
      },
      "execution_count": null,
      "outputs": []
    },
    {
      "cell_type": "code",
      "source": [
        "data['month'] = pd.to_datetime(data['Time']).dt.month\n",
        "data['day'] = pd.to_datetime(data['Time']).dt.day\n",
        "data['hour'] = pd.to_datetime(data['Time']).dt.hour"
      ],
      "metadata": {
        "id": "l1abinKweUcf"
      },
      "execution_count": null,
      "outputs": []
    },
    {
      "cell_type": "code",
      "source": [
        "data['x1_lag1'] = data['x1'].shift(1)"
      ],
      "metadata": {
        "id": "bMd-ulRNeYQo"
      },
      "execution_count": null,
      "outputs": []
    },
    {
      "cell_type": "markdown",
      "source": [
        "**Model Selection:**"
      ],
      "metadata": {
        "id": "0GFs3CGbe6b3"
      }
    },
    {
      "cell_type": "code",
      "source": [
        "from sklearn.model_selection import train_test_split\n",
        "from sklearn.linear_model import LinearRegression\n",
        "from sklearn.ensemble import RandomForestRegressor\n",
        "from sklearn.metrics import mean_squared_error\n",
        "from sklearn.impute import SimpleImputer"
      ],
      "metadata": {
        "id": "eaPIJKaZeYlT"
      },
      "execution_count": null,
      "outputs": []
    },
    {
      "cell_type": "code",
      "source": [
        "# Split the data into training and testing sets\n",
        "X_train, X_test, y_train, y_test = train_test_split(X, y, test_size=0.2, random_state=42)"
      ],
      "metadata": {
        "id": "l7-LK0Vse_zJ"
      },
      "execution_count": null,
      "outputs": []
    },
    {
      "cell_type": "code",
      "source": [
        "# Handle missing values in the features\n",
        "imputer = SimpleImputer(strategy='mean')\n",
        "X_train_imputed = imputer.fit_transform(X_train)\n",
        "X_test_imputed = imputer.transform(X_test)"
      ],
      "metadata": {
        "id": "Aq9qemZBfcTC"
      },
      "execution_count": null,
      "outputs": []
    },
    {
      "cell_type": "code",
      "source": [
        "# Model selection: Choose appropriate regression models\n",
        "models = {\n",
        "    \"Linear Regression\": LinearRegression(),\n",
        "    \"Random Forest Regressor\": RandomForestRegressor(random_state=42)\n",
        "}"
      ],
      "metadata": {
        "id": "bIOeIqGvfBSm"
      },
      "execution_count": null,
      "outputs": []
    },
    {
      "cell_type": "code",
      "source": [
        "# Train and evaluate each model\n",
        "for name, model in models.items():\n",
        "    model.fit(X_train_imputed, y_train)\n",
        "    y_pred = model.predict(X_test_imputed)\n",
        "    mse = mean_squared_error(y_test, y_pred)\n",
        "    print(f\"{name}: Mean Squared Error = {mse:.2f}\")"
      ],
      "metadata": {
        "colab": {
          "base_uri": "https://localhost:8080/"
        },
        "id": "xEwKkbb7fCwZ",
        "outputId": "4b1550ce-b22d-4e1c-8809-d0b24cefd365"
      },
      "execution_count": null,
      "outputs": [
        {
          "output_type": "stream",
          "name": "stdout",
          "text": [
            "Linear Regression: Mean Squared Error = 1003.63\n",
            "Random Forest Regressor: Mean Squared Error = 1.14\n"
          ]
        }
      ]
    },
    {
      "cell_type": "markdown",
      "source": [
        "**Model Development and Evaluation:**"
      ],
      "metadata": {
        "id": "sN3J_rAKgzRf"
      }
    },
    {
      "cell_type": "code",
      "source": [
        "from sklearn.model_selection import train_test_split\n",
        "from sklearn.ensemble import RandomForestRegressor\n",
        "from sklearn.impute import SimpleImputer\n",
        "from sklearn.metrics import mean_squared_error"
      ],
      "metadata": {
        "id": "Pj9aqOScgBRO"
      },
      "execution_count": null,
      "outputs": []
    },
    {
      "cell_type": "code",
      "source": [
        "# Split the data into training and testing sets\n",
        "X_train, X_test, y_train, y_test = train_test_split(X, y, test_size=0.2, random_state=42)"
      ],
      "metadata": {
        "id": "oRt8P9dnjDme"
      },
      "execution_count": null,
      "outputs": []
    },
    {
      "cell_type": "code",
      "source": [
        "# Handle missing values in the features\n",
        "imputer = SimpleImputer(strategy='mean')\n",
        "X_train_imputed = imputer.fit_transform(X_train)\n",
        "X_test_imputed = imputer.transform(X_test)"
      ],
      "metadata": {
        "id": "BCrvVlnwjDK5"
      },
      "execution_count": null,
      "outputs": []
    },
    {
      "cell_type": "code",
      "source": [
        "# Define the model\n",
        "model = RandomForestRegressor(random_state=42)"
      ],
      "metadata": {
        "id": "-ZVytfXGjHzk"
      },
      "execution_count": null,
      "outputs": []
    },
    {
      "cell_type": "code",
      "source": [
        "# Train the model\n",
        "model.fit(X_train_imputed, y_train)"
      ],
      "metadata": {
        "colab": {
          "base_uri": "https://localhost:8080/",
          "height": 74
        },
        "id": "vn-5XParjJop",
        "outputId": "40f030ac-47e5-41ba-b8aa-5ed35dad6999"
      },
      "execution_count": null,
      "outputs": [
        {
          "output_type": "execute_result",
          "data": {
            "text/plain": [
              "RandomForestRegressor(random_state=42)"
            ],
            "text/html": [
              "<style>#sk-container-id-1 {color: black;background-color: white;}#sk-container-id-1 pre{padding: 0;}#sk-container-id-1 div.sk-toggleable {background-color: white;}#sk-container-id-1 label.sk-toggleable__label {cursor: pointer;display: block;width: 100%;margin-bottom: 0;padding: 0.3em;box-sizing: border-box;text-align: center;}#sk-container-id-1 label.sk-toggleable__label-arrow:before {content: \"▸\";float: left;margin-right: 0.25em;color: #696969;}#sk-container-id-1 label.sk-toggleable__label-arrow:hover:before {color: black;}#sk-container-id-1 div.sk-estimator:hover label.sk-toggleable__label-arrow:before {color: black;}#sk-container-id-1 div.sk-toggleable__content {max-height: 0;max-width: 0;overflow: hidden;text-align: left;background-color: #f0f8ff;}#sk-container-id-1 div.sk-toggleable__content pre {margin: 0.2em;color: black;border-radius: 0.25em;background-color: #f0f8ff;}#sk-container-id-1 input.sk-toggleable__control:checked~div.sk-toggleable__content {max-height: 200px;max-width: 100%;overflow: auto;}#sk-container-id-1 input.sk-toggleable__control:checked~label.sk-toggleable__label-arrow:before {content: \"▾\";}#sk-container-id-1 div.sk-estimator input.sk-toggleable__control:checked~label.sk-toggleable__label {background-color: #d4ebff;}#sk-container-id-1 div.sk-label input.sk-toggleable__control:checked~label.sk-toggleable__label {background-color: #d4ebff;}#sk-container-id-1 input.sk-hidden--visually {border: 0;clip: rect(1px 1px 1px 1px);clip: rect(1px, 1px, 1px, 1px);height: 1px;margin: -1px;overflow: hidden;padding: 0;position: absolute;width: 1px;}#sk-container-id-1 div.sk-estimator {font-family: monospace;background-color: #f0f8ff;border: 1px dotted black;border-radius: 0.25em;box-sizing: border-box;margin-bottom: 0.5em;}#sk-container-id-1 div.sk-estimator:hover {background-color: #d4ebff;}#sk-container-id-1 div.sk-parallel-item::after {content: \"\";width: 100%;border-bottom: 1px solid gray;flex-grow: 1;}#sk-container-id-1 div.sk-label:hover label.sk-toggleable__label {background-color: #d4ebff;}#sk-container-id-1 div.sk-serial::before {content: \"\";position: absolute;border-left: 1px solid gray;box-sizing: border-box;top: 0;bottom: 0;left: 50%;z-index: 0;}#sk-container-id-1 div.sk-serial {display: flex;flex-direction: column;align-items: center;background-color: white;padding-right: 0.2em;padding-left: 0.2em;position: relative;}#sk-container-id-1 div.sk-item {position: relative;z-index: 1;}#sk-container-id-1 div.sk-parallel {display: flex;align-items: stretch;justify-content: center;background-color: white;position: relative;}#sk-container-id-1 div.sk-item::before, #sk-container-id-1 div.sk-parallel-item::before {content: \"\";position: absolute;border-left: 1px solid gray;box-sizing: border-box;top: 0;bottom: 0;left: 50%;z-index: -1;}#sk-container-id-1 div.sk-parallel-item {display: flex;flex-direction: column;z-index: 1;position: relative;background-color: white;}#sk-container-id-1 div.sk-parallel-item:first-child::after {align-self: flex-end;width: 50%;}#sk-container-id-1 div.sk-parallel-item:last-child::after {align-self: flex-start;width: 50%;}#sk-container-id-1 div.sk-parallel-item:only-child::after {width: 0;}#sk-container-id-1 div.sk-dashed-wrapped {border: 1px dashed gray;margin: 0 0.4em 0.5em 0.4em;box-sizing: border-box;padding-bottom: 0.4em;background-color: white;}#sk-container-id-1 div.sk-label label {font-family: monospace;font-weight: bold;display: inline-block;line-height: 1.2em;}#sk-container-id-1 div.sk-label-container {text-align: center;}#sk-container-id-1 div.sk-container {/* jupyter's `normalize.less` sets `[hidden] { display: none; }` but bootstrap.min.css set `[hidden] { display: none !important; }` so we also need the `!important` here to be able to override the default hidden behavior on the sphinx rendered scikit-learn.org. See: https://github.com/scikit-learn/scikit-learn/issues/21755 */display: inline-block !important;position: relative;}#sk-container-id-1 div.sk-text-repr-fallback {display: none;}</style><div id=\"sk-container-id-1\" class=\"sk-top-container\"><div class=\"sk-text-repr-fallback\"><pre>RandomForestRegressor(random_state=42)</pre><b>In a Jupyter environment, please rerun this cell to show the HTML representation or trust the notebook. <br />On GitHub, the HTML representation is unable to render, please try loading this page with nbviewer.org.</b></div><div class=\"sk-container\" hidden><div class=\"sk-item\"><div class=\"sk-estimator sk-toggleable\"><input class=\"sk-toggleable__control sk-hidden--visually\" id=\"sk-estimator-id-1\" type=\"checkbox\" checked><label for=\"sk-estimator-id-1\" class=\"sk-toggleable__label sk-toggleable__label-arrow\">RandomForestRegressor</label><div class=\"sk-toggleable__content\"><pre>RandomForestRegressor(random_state=42)</pre></div></div></div></div></div>"
            ]
          },
          "metadata": {},
          "execution_count": 33
        }
      ]
    },
    {
      "cell_type": "code",
      "source": [
        "# Make predictions on the testing data\n",
        "y_pred = model.predict(X_test_imputed)"
      ],
      "metadata": {
        "id": "TGG8qEDBjLju"
      },
      "execution_count": null,
      "outputs": []
    },
    {
      "cell_type": "code",
      "source": [
        "# Evaluate the model using Mean Squared Error (MSE)\n",
        "mse = mean_squared_error(y_test, y_pred)\n",
        "print(f\"Mean Squared Error: {mse:.2f}\")"
      ],
      "metadata": {
        "colab": {
          "base_uri": "https://localhost:8080/"
        },
        "id": "HmZvVY0YjNsF",
        "outputId": "cbba2868-0f7c-41c6-8155-9f068894aea5"
      },
      "execution_count": null,
      "outputs": [
        {
          "output_type": "stream",
          "name": "stdout",
          "text": [
            "Mean Squared Error: 1.14\n"
          ]
        }
      ]
    },
    {
      "cell_type": "markdown",
      "source": [
        "**Predictive Insights:**"
      ],
      "metadata": {
        "id": "l4GudmwThhr_"
      }
    },
    {
      "cell_type": "code",
      "source": [
        "# Get feature importances\n",
        "feature_importance = model.feature_importances_\n",
        "\n",
        "# Sort feature importances in descending order\n",
        "sorted_idx = np.argsort(feature_importance)[::-1]\n",
        "\n",
        "# Print feature names and their importance scores\n",
        "for i in sorted_idx:\n",
        "    print(f\"{X.columns[i]}: {feature_importance[i]}\")"
      ],
      "metadata": {
        "colab": {
          "base_uri": "https://localhost:8080/"
        },
        "id": "GTt5gqNhhNh3",
        "outputId": "22df4191-a114-42be-9b35-c7a12c4522d3"
      },
      "execution_count": null,
      "outputs": [
        {
          "output_type": "stream",
          "name": "stdout",
          "text": [
            "x48: 0.3090087194062596\n",
            "x41: 0.163136481522076\n",
            "x25: 0.14561107025407827\n",
            "x10: 0.04382329461971983\n",
            "x73: 0.017246554441904243\n",
            "x19: 0.015594210974306778\n",
            "x9: 0.015144994870977339\n",
            "x83: 0.010487358954927717\n",
            "x3: 0.00891042212655669\n",
            "x28: 0.008371355916789953\n",
            "x14: 0.007770702679828272\n",
            "x47: 0.007670687128422793\n",
            "x30: 0.007654078740588396\n",
            "x58: 0.007427739314997659\n",
            "x39: 0.007114408382947107\n",
            "x59: 0.007058183524293813\n",
            "x22: 0.006987261700509246\n",
            "x21: 0.0068025684156600204\n",
            "x32: 0.006608977269191928\n",
            "x68: 0.006439945229182956\n",
            "x20: 0.0062812419490220605\n",
            "x24: 0.0061139003514323\n",
            "x54: 0.006013698947933399\n",
            "x36: 0.005988819716260606\n",
            "x46: 0.005668338677229048\n",
            "x66: 0.005658450546249864\n",
            "x16: 0.005499047953228381\n",
            "x40: 0.00527019042111605\n",
            "x12: 0.005175151527174476\n",
            "x45: 0.005141277201464576\n",
            "x18: 0.005139162472876233\n",
            "x71: 0.004953625676704989\n",
            "x61: 0.004786823114997776\n",
            "x55: 0.004723718066318178\n",
            "x37: 0.004660609151906636\n",
            "x57: 0.004633516060501674\n",
            "x79: 0.004587664183173071\n",
            "x63: 0.004247660829974798\n",
            "x5: 0.003946581653934656\n",
            "x53: 0.003924205272744166\n",
            "x17: 0.003787997113625004\n",
            "x31: 0.0037141194773741533\n",
            "x74: 0.0036646564860900693\n",
            "x65: 0.0036126862164825076\n",
            "x27: 0.0033884080396323845\n",
            "x60: 0.0032770944007498855\n",
            "x56: 0.0031738224919303764\n",
            "x38: 0.003155396543887233\n",
            "Company: 0.0029481489006722684\n",
            "x33: 0.0028328049504060334\n",
            "x51: 0.002802768096463701\n",
            "x23: 0.0026232040416876885\n",
            "x26: 0.0025735433340151738\n",
            "x62: 0.002549688068575275\n",
            "x11: 0.0025192702926476822\n",
            "x43: 0.0025185497287355464\n",
            "x64: 0.0025171437207263335\n",
            "x80: 0.002496805505393409\n",
            "x44: 0.0024832000490814256\n",
            "x4: 0.0024805509735338306\n",
            "x82: 0.0024366758203886777\n",
            "x2: 0.0024125354015970017\n",
            "x69: 0.00235748688058591\n",
            "x8: 0.0022836939218970984\n",
            "x70: 0.002037548427627404\n",
            "x15: 0.0020169254097200874\n",
            "x67: 0.0020091791483752737\n",
            "Time: 0.0019642868670897273\n",
            "x42: 0.0019554510512905495\n",
            "x7: 0.001909992801898369\n",
            "x35: 0.0016277879489805971\n",
            "x6: 0.0014914246773651393\n",
            "x29: 0.0014912068788452888\n",
            "x1: 0.0014718832262057494\n",
            "x72: 0.000851730491901645\n",
            "x78: 0.0007274716320505119\n",
            "x77: 0.0005521617350094228\n"
          ]
        }
      ]
    },
    {
      "cell_type": "code",
      "source": [
        "# Calculate residuals\n",
        "residuals = y_test - y_pred"
      ],
      "metadata": {
        "id": "RVpVUUM2h5E2"
      },
      "execution_count": null,
      "outputs": []
    },
    {
      "cell_type": "code",
      "source": [
        "# Find instances with high prediction errors\n",
        "high_error_indices = np.argsort(np.abs(residuals))[::-1][:10]  # Adjust the number of instances as needed\n",
        "\n",
        "# Print feature values and their corresponding actual and predicted values for high-error instances\n",
        "for idx in high_error_indices:\n",
        "    print(f\"Instance {idx}:\")\n",
        "    print(f\"Actual Value: {y_test.iloc[idx]}\")\n",
        "    print(f\"Predicted Value: {y_pred[idx]}\")\n",
        "    print(f\"Features: {X_test.iloc[idx]}\")"
      ],
      "metadata": {
        "colab": {
          "base_uri": "https://localhost:8080/"
        },
        "id": "dFeE0L7AiJqz",
        "outputId": "f91f10c2-5a1a-4746-8829-ab9763f70120"
      },
      "execution_count": null,
      "outputs": [
        {
          "output_type": "stream",
          "name": "stdout",
          "text": [
            "Instance 347:\n",
            "Actual Value: 9.3749\n",
            "Predicted Value: 1.8606840999999992\n",
            "Features: Company    96.00000\n",
            "Time        4.00000\n",
            "x1          0.70861\n",
            "x2          0.58095\n",
            "x3          0.84753\n",
            "             ...   \n",
            "x78        16.00000\n",
            "x79         5.60000\n",
            "x80        18.00000\n",
            "x82         4.00000\n",
            "x83        15.00000\n",
            "Name: 1073, Length: 77, dtype: float64\n",
            "Instance 665:\n",
            "Actual Value: -5.6838\n",
            "Predicted Value: 0.6850457449999996\n",
            "Features: Company    89.000000\n",
            "Time        1.000000\n",
            "x1          1.125600\n",
            "x2          0.028183\n",
            "x3          0.860420\n",
            "             ...    \n",
            "x78        16.000000\n",
            "x79         0.200000\n",
            "x80        23.000000\n",
            "x82         3.000000\n",
            "x83        20.000000\n",
            "Name: 1006, Length: 77, dtype: float64\n",
            "Instance 154:\n",
            "Actual Value: 4.7789\n",
            "Predicted Value: 11.0579138\n",
            "Features: Company    284.00000\n",
            "Time        11.00000\n",
            "x1           6.84810\n",
            "x2           0.74941\n",
            "x3           0.20403\n",
            "             ...    \n",
            "x78         14.50000\n",
            "x79        -13.75000\n",
            "x80         25.00000\n",
            "x82          2.00000\n",
            "x83          9.00000\n",
            "Name: 2893, Length: 77, dtype: float64\n",
            "Instance 128:\n",
            "Actual Value: 0.96119\n",
            "Predicted Value: 6.404533899999997\n",
            "Features: Company    360.000000\n",
            "Time         9.000000\n",
            "x1           0.726020\n",
            "x2           0.068228\n",
            "x3           0.787430\n",
            "              ...    \n",
            "x78         12.750000\n",
            "x79          0.750000\n",
            "x80         29.000000\n",
            "x82         16.000000\n",
            "x83         50.000000\n",
            "Name: 3261, Length: 77, dtype: float64\n",
            "Instance 240:\n",
            "Actual Value: -2.7031\n",
            "Predicted Value: 2.4237075520000007\n",
            "Features: Company    15.000000\n",
            "Time        6.000000\n",
            "x1          0.989490\n",
            "x2          0.080388\n",
            "x3          0.762280\n",
            "             ...    \n",
            "x78        12.000000\n",
            "x79        -6.400000\n",
            "x80        18.000000\n",
            "x82        12.000000\n",
            "x83        41.000000\n",
            "Name: 139, Length: 77, dtype: float64\n",
            "Instance 676:\n",
            "Actual Value: 0.71129\n",
            "Predicted Value: 5.744179399999999\n",
            "Features: Company    249.00000\n",
            "Time        11.00000\n",
            "x1           1.22220\n",
            "x2           0.18870\n",
            "x3           0.51988\n",
            "             ...    \n",
            "x78         14.50000\n",
            "x79        -16.00000\n",
            "x80         19.00000\n",
            "x82         16.00000\n",
            "x83         55.00000\n",
            "Name: 2599, Length: 77, dtype: float64\n",
            "Instance 492:\n",
            "Actual Value: 12.772\n",
            "Predicted Value: 8.124106099999995\n",
            "Features: Company    284.00000\n",
            "Time        10.00000\n",
            "x1           1.28090\n",
            "x2           0.52497\n",
            "x3           0.38903\n",
            "             ...    \n",
            "x78         14.12500\n",
            "x79         -5.10000\n",
            "x80         25.00000\n",
            "x82          1.00000\n",
            "x83          8.00000\n",
            "Name: 2892, Length: 77, dtype: float64\n",
            "Instance 545:\n",
            "Actual Value: -0.72071\n",
            "Predicted Value: 3.7704444399999995\n",
            "Features: Company    263.00000\n",
            "Time         7.00000\n",
            "x1           1.11090\n",
            "x2           0.11228\n",
            "x3           0.83831\n",
            "             ...    \n",
            "x78         12.00000\n",
            "x79        -13.40000\n",
            "x80         22.00000\n",
            "x82          6.00000\n",
            "x83         18.00000\n",
            "Name: 2742, Length: 77, dtype: float64\n",
            "Instance 46:\n",
            "Actual Value: 1.5174\n",
            "Predicted Value: 5.888393099999999\n",
            "Features: Company    294.00000\n",
            "Time        14.00000\n",
            "x1           0.41990\n",
            "x2           0.13382\n",
            "x3           0.68937\n",
            "             ...    \n",
            "x78         20.50000\n",
            "x79          8.60000\n",
            "x80         16.00000\n",
            "x82          1.00000\n",
            "x83          8.00000\n",
            "Name: 2917, Length: 77, dtype: float64\n",
            "Instance 399:\n",
            "Actual Value: 1.7354\n",
            "Predicted Value: 6.063268899999998\n",
            "Features: Company    186.00000\n",
            "Time        11.00000\n",
            "x1           2.07540\n",
            "x2           0.51572\n",
            "x3           0.24060\n",
            "             ...    \n",
            "x78         14.50000\n",
            "x79        -16.00000\n",
            "x80          4.00000\n",
            "x82          1.00000\n",
            "x83         17.00000\n",
            "Name: 1992, Length: 77, dtype: float64\n"
          ]
        }
      ]
    },
    {
      "cell_type": "code",
      "source": [
        "# Plot residuals\n",
        "plt.scatter(y_pred, residuals)\n",
        "plt.xlabel(\"Predicted Values\")\n",
        "plt.ylabel(\"Residuals\")\n",
        "plt.title(\"Residual Analysis\")\n",
        "plt.show()"
      ],
      "metadata": {
        "colab": {
          "base_uri": "https://localhost:8080/",
          "height": 472
        },
        "id": "Hy6YqSvLkLXr",
        "outputId": "36156ec7-353d-4e92-cac6-c2b7f8381377"
      },
      "execution_count": null,
      "outputs": [
        {
          "output_type": "display_data",
          "data": {
            "text/plain": [
              "<Figure size 640x480 with 1 Axes>"
            ],
            "image/png": "[encoded data removed]"
          },
          "metadata": {}
        }
      ]
    }
  ]
}